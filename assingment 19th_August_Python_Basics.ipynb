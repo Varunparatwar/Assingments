{
 "cells": [
  {
   "cell_type": "code",
   "execution_count": 12,
   "id": "4ade3b9b-f0f8-4d71-8b3b-4e3c1c96432e",
   "metadata": {},
   "outputs": [
    {
     "data": {
      "text/plain": [
       "'1. Declare two variables, `x` and `y`, and assign them integer values. Swap the\\nvalues of these variables without using any temporary variable.'"
      ]
     },
     "execution_count": 12,
     "metadata": {},
     "output_type": "execute_result"
    }
   ],
   "source": [
    "'''1. Declare two variables, `x` and `y`, and assign them integer values. Swap the\n",
    "values of these variables without using any temporary variable.'''"
   ]
  },
  {
   "cell_type": "code",
   "execution_count": 14,
   "id": "86a23990-af31-4b59-9f82-c9af04c2842d",
   "metadata": {},
   "outputs": [],
   "source": [
    "x=123"
   ]
  },
  {
   "cell_type": "code",
   "execution_count": 15,
   "id": "baafd01e-e898-4d72-8f95-dedca9013f56",
   "metadata": {},
   "outputs": [],
   "source": [
    "y=321"
   ]
  },
  {
   "cell_type": "code",
   "execution_count": 16,
   "id": "aa487810-828a-4419-b2f3-b624b0c548b7",
   "metadata": {},
   "outputs": [],
   "source": [
    "x,y=y,x"
   ]
  },
  {
   "cell_type": "code",
   "execution_count": 17,
   "id": "b7b4c7c2-44c3-4fb2-abe3-a609d2e5cee6",
   "metadata": {},
   "outputs": [
    {
     "name": "stdout",
     "output_type": "stream",
     "text": [
      "321 123\n"
     ]
    }
   ],
   "source": [
    "print(x,y)"
   ]
  },
  {
   "cell_type": "code",
   "execution_count": 19,
   "id": "d0da6efd-5e2f-4a30-99b6-9be3847645d5",
   "metadata": {},
   "outputs": [
    {
     "data": {
      "text/plain": [
       "'Create a program that calculates the area of a rectangle. Take the length and\\nwidth as inputs from the user and store them in variables. Calculate and\\ndisplay the area.'"
      ]
     },
     "execution_count": 19,
     "metadata": {},
     "output_type": "execute_result"
    }
   ],
   "source": [
    "'''Create a program that calculates the area of a rectangle. Take the length and\n",
    "width as inputs from the user and store them in variables. Calculate and\n",
    "display the area.'''"
   ]
  },
  {
   "cell_type": "code",
   "execution_count": 21,
   "id": "e7205fcd-5774-46bb-80e1-a9c269c02003",
   "metadata": {},
   "outputs": [
    {
     "name": "stdin",
     "output_type": "stream",
     "text": [
      " 23\n"
     ]
    }
   ],
   "source": [
    "length=int(input())"
   ]
  },
  {
   "cell_type": "code",
   "execution_count": 22,
   "id": "95e7a367-d3db-45c3-837c-72839f7e2024",
   "metadata": {},
   "outputs": [
    {
     "name": "stdin",
     "output_type": "stream",
     "text": [
      " 10\n"
     ]
    }
   ],
   "source": [
    "width=int(input())"
   ]
  },
  {
   "cell_type": "code",
   "execution_count": 23,
   "id": "493a2654-8928-4adf-802c-9843d34df8d7",
   "metadata": {},
   "outputs": [],
   "source": [
    "Area= length*width"
   ]
  },
  {
   "cell_type": "code",
   "execution_count": 26,
   "id": "2bd521fa-9948-4bc5-a4e9-8d72df2eeda2",
   "metadata": {},
   "outputs": [
    {
     "name": "stdout",
     "output_type": "stream",
     "text": [
      "230\n"
     ]
    }
   ],
   "source": [
    "print(Area)"
   ]
  },
  {
   "cell_type": "code",
   "execution_count": 27,
   "id": "0b9a9996-4c3f-4709-83ff-be31e85a882c",
   "metadata": {},
   "outputs": [
    {
     "data": {
      "text/plain": [
       "'Write a Python program that converts temperatures from Celsius to\\nFahrenheit. Take the temperature in Celsius as input, store it in a variable,\\nconvert it to Fahrenheit, and display the result.'"
      ]
     },
     "execution_count": 27,
     "metadata": {},
     "output_type": "execute_result"
    }
   ],
   "source": [
    "'''Write a Python program that converts temperatures from Celsius to\n",
    "Fahrenheit. Take the temperature in Celsius as input, store it in a variable,\n",
    "convert it to Fahrenheit, and display the result.'''"
   ]
  },
  {
   "cell_type": "code",
   "execution_count": 33,
   "id": "0fa51912-2643-4ffa-879b-b9171c8ff722",
   "metadata": {},
   "outputs": [
    {
     "name": "stdin",
     "output_type": "stream",
     "text": [
      "enter temprature in degree 36\n"
     ]
    }
   ],
   "source": [
    "Temprature= float(input(\"enter temprature in degree\"))"
   ]
  },
  {
   "cell_type": "code",
   "execution_count": 35,
   "id": "4af1fe5e-e76c-441c-9c73-222e89a27783",
   "metadata": {},
   "outputs": [],
   "source": [
    "Fahrenheit=(Temprature * 9/5) + 32"
   ]
  },
  {
   "cell_type": "code",
   "execution_count": 38,
   "id": "2bfab1b5-9479-42ad-bd5b-306ee8070a60",
   "metadata": {},
   "outputs": [
    {
     "name": "stdout",
     "output_type": "stream",
     "text": [
      "96.8\n"
     ]
    }
   ],
   "source": [
    "print(Fahrenheit)"
   ]
  },
  {
   "cell_type": "code",
   "execution_count": 39,
   "id": "e6a85366-69da-4ba6-896c-1fb2edf6ed53",
   "metadata": {},
   "outputs": [
    {
     "data": {
      "text/plain": [
       "'1. Write a Python program that takes a string as input and prints the length of\\nthe string.'"
      ]
     },
     "execution_count": 39,
     "metadata": {},
     "output_type": "execute_result"
    }
   ],
   "source": [
    "'''1. Write a Python program that takes a string as input and prints the length of\n",
    "the string.'''"
   ]
  },
  {
   "cell_type": "code",
   "execution_count": 47,
   "id": "5efcd016-c294-44d1-9812-3ab7fbb658ea",
   "metadata": {},
   "outputs": [
    {
     "name": "stdin",
     "output_type": "stream",
     "text": [
      "enter your name=  varun paratwar\n"
     ]
    }
   ],
   "source": [
    "name=input(\"enter your name= \")"
   ]
  },
  {
   "cell_type": "code",
   "execution_count": 48,
   "id": "2b04f224-127f-46e1-bec6-17c87105095c",
   "metadata": {},
   "outputs": [
    {
     "data": {
      "text/plain": [
       "14"
      ]
     },
     "execution_count": 48,
     "metadata": {},
     "output_type": "execute_result"
    }
   ],
   "source": [
    "len(name)"
   ]
  },
  {
   "cell_type": "code",
   "execution_count": 49,
   "id": "e2a76406-f092-42a2-8254-74ee3ad44516",
   "metadata": {},
   "outputs": [
    {
     "data": {
      "text/plain": [
       "'2. Create a program that takes a sentence from the user and counts the number\\nof vowels (a, e, i, o, u) in the string.'"
      ]
     },
     "execution_count": 49,
     "metadata": {},
     "output_type": "execute_result"
    }
   ],
   "source": [
    "'''2. Create a program that takes a sentence from the user and counts the number\n",
    "of vowels (a, e, i, o, u) in the string.'''"
   ]
  },
  {
   "cell_type": "code",
   "execution_count": 64,
   "id": "ccdad298-1ea0-40b9-a89b-95ae087304bb",
   "metadata": {},
   "outputs": [
    {
     "name": "stdin",
     "output_type": "stream",
     "text": [
      "write a sentence=  The quick brown fox jumps over the lazy dog\n"
     ]
    }
   ],
   "source": [
    "sentence= input(\"write a sentence= \")"
   ]
  },
  {
   "cell_type": "code",
   "execution_count": 75,
   "id": "dfb40e02-b9c4-45a3-a0fe-f5ec787f2d4f",
   "metadata": {},
   "outputs": [
    {
     "name": "stdout",
     "output_type": "stream",
     "text": [
      "count of a=  1\n",
      "count of e=  3\n",
      "count of i=  1\n",
      "count of o=  4\n",
      "count of u=  2\n"
     ]
    }
   ],
   "source": [
    "print(\"count of a= \", sentence.count(\"a\"))\n",
    "print(\"count of e= \", sentence.count(\"e\"))\n",
    "print(\"count of i= \", sentence.count(\"i\"))\n",
    "print(\"count of o= \", sentence.count(\"o\"))\n",
    "print(\"count of u= \", sentence.count(\"u\"))"
   ]
  },
  {
   "cell_type": "code",
   "execution_count": 76,
   "id": "c8b328b9-aab0-409c-b557-04602d16a753",
   "metadata": {},
   "outputs": [
    {
     "data": {
      "text/plain": [
       "'3. Given a string, reverse the order of characters using string slicing and print\\nthe reversed string.'"
      ]
     },
     "execution_count": 76,
     "metadata": {},
     "output_type": "execute_result"
    }
   ],
   "source": [
    "'''3. Given a string, reverse the order of characters using string slicing and print\n",
    "the reversed string.'''"
   ]
  },
  {
   "cell_type": "code",
   "execution_count": 77,
   "id": "679281b6-3e2c-4f23-824e-49041e083581",
   "metadata": {},
   "outputs": [
    {
     "name": "stdin",
     "output_type": "stream",
     "text": [
      "enter name=  varun paratwar\n"
     ]
    }
   ],
   "source": [
    "name= input(\"enter name= \")"
   ]
  },
  {
   "cell_type": "code",
   "execution_count": 79,
   "id": "a952ec19-d778-4339-943e-9a6df333fa6c",
   "metadata": {},
   "outputs": [
    {
     "name": "stdout",
     "output_type": "stream",
     "text": [
      "rawtarap nurav\n"
     ]
    }
   ],
   "source": [
    "print(name[-1::-1])"
   ]
  },
  {
   "cell_type": "code",
   "execution_count": 80,
   "id": "6dab704b-bc82-4990-92b8-59592dbe8571",
   "metadata": {},
   "outputs": [
    {
     "data": {
      "text/plain": [
       "'Write a program that takes a string as input and checks if it is a palindrome\\n(reads the same forwards and backwards).'"
      ]
     },
     "execution_count": 80,
     "metadata": {},
     "output_type": "execute_result"
    }
   ],
   "source": [
    "'''Write a program that takes a string as input and checks if it is a palindrome\n",
    "(reads the same forwards and backwards).'''"
   ]
  },
  {
   "cell_type": "code",
   "execution_count": 93,
   "id": "33c5d309-244d-4b19-8508-10c2bcb6aae9",
   "metadata": {},
   "outputs": [
    {
     "name": "stdin",
     "output_type": "stream",
     "text": [
      "enter a word=  varun\n"
     ]
    }
   ],
   "source": [
    "word=input(\"enter a word= \")"
   ]
  },
  {
   "cell_type": "code",
   "execution_count": 96,
   "id": "2635035f-44f1-4fbf-9512-33abe311312b",
   "metadata": {},
   "outputs": [
    {
     "name": "stdout",
     "output_type": "stream",
     "text": [
      "word value as palindrome is  False\n"
     ]
    }
   ],
   "source": [
    "print(\"word value as palindrome is \",word==word[-1::-1])"
   ]
  },
  {
   "cell_type": "code",
   "execution_count": 97,
   "id": "ab3a6570-942d-4ac6-b8a1-cdb1c8bd1dbf",
   "metadata": {},
   "outputs": [
    {
     "data": {
      "text/plain": [
       "'Create a program that takes a string as input and removes all the spaces from\\nit. Print the modified string without spaces.'"
      ]
     },
     "execution_count": 97,
     "metadata": {},
     "output_type": "execute_result"
    }
   ],
   "source": [
    "'''Create a program that takes a string as input and removes all the spaces from\n",
    "it. Print the modified string without spaces.'''"
   ]
  },
  {
   "cell_type": "code",
   "execution_count": 105,
   "id": "1047cb7f-5760-4b67-ac6c-43fad8995999",
   "metadata": {},
   "outputs": [
    {
     "name": "stdin",
     "output_type": "stream",
     "text": [
      "enter value=  my name is varun paratwar\n"
     ]
    }
   ],
   "source": [
    "value= input('enter value= ')"
   ]
  },
  {
   "cell_type": "code",
   "execution_count": 106,
   "id": "64f4b451-6b50-4b5c-977d-1c7a7e054ab5",
   "metadata": {},
   "outputs": [],
   "source": [
    "value=value.replace(\" \",\"\")"
   ]
  },
  {
   "cell_type": "code",
   "execution_count": 107,
   "id": "7036a3f5-7c1e-4980-9ad1-7ce4b158ee95",
   "metadata": {},
   "outputs": [
    {
     "name": "stdout",
     "output_type": "stream",
     "text": [
      "mynameisvarunparatwar\n"
     ]
    }
   ],
   "source": [
    "print (value)"
   ]
  }
 ],
 "metadata": {
  "kernelspec": {
   "display_name": "Python 3 (ipykernel)",
   "language": "python",
   "name": "python3"
  },
  "language_info": {
   "codemirror_mode": {
    "name": "ipython",
    "version": 3
   },
   "file_extension": ".py",
   "mimetype": "text/x-python",
   "name": "python",
   "nbconvert_exporter": "python",
   "pygments_lexer": "ipython3",
   "version": "3.10.8"
  }
 },
 "nbformat": 4,
 "nbformat_minor": 5
}
